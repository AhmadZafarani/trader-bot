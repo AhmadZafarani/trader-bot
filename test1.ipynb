{
 "cells": [
  {
   "cell_type": "code",
   "execution_count": 4,
   "metadata": {},
   "outputs": [],
   "source": [
    "import csv\n",
    "import numpy as np "
   ]
  },
  {
   "cell_type": "code",
   "execution_count": 5,
   "metadata": {},
   "outputs": [],
   "source": [
    "class Candle: \n",
    "    def find_s(self , high , low , openn , close ):\n",
    "        self.r = abs(high-openn) +abs(high-low)+abs(close-low)\n",
    "        self.r = round(self.r , 2)\n",
    "        s = self.r / 60 \n",
    "        return(s)\n",
    "    def __init__(self , id ,  row):\n",
    "        self.id = id\n",
    "        self.time = int(row[0])\n",
    "        self.high = float(row[1])\n",
    "        self.low = float(row[2])\n",
    "        self.open = float(row[3])\n",
    "        self.close = float(row[4])\n",
    "        self.speed = self.find_s(self.high , self.low ,self.open , self.close )\n",
    "    def printcandle(self):\n",
    "        print(f'time => {self.time} \\nhigh => {self.high}\\nlow => {self.low}\\nopen => {self.open}\\nclose => {self.close}\\n')\n",
    "        \n",
    "        "
   ]
  },
  {
   "cell_type": "code",
   "execution_count": 6,
   "metadata": {},
   "outputs": [],
   "source": [
    "class Moment:\n",
    "    def __init__(self , price):\n",
    "        self.price = price"
   ]
  },
  {
   "cell_type": "code",
   "execution_count": null,
   "metadata": {},
   "outputs": [],
   "source": [
    "class Positioin: \n",
    "    def __init__(self, ):\n",
    "        "
   ]
  },
  {
   "cell_type": "code",
   "execution_count": 7,
   "metadata": {},
   "outputs": [
    {
     "name": "stdout",
     "output_type": "stream",
     "text": [
      "Number of candles:  8760\n"
     ]
    }
   ],
   "source": [
    "with open('1h.csv') as csvfile:\n",
    "    candles = []\n",
    "    csv_reader = csv.reader(csvfile, delimiter=',')\n",
    "    line_count = 0\n",
    "    for row in csv_reader:\n",
    "        if line_count == 0:\n",
    "            line_count += 1\n",
    "        else:\n",
    "            candles.append(Candle(line_count , row ))\n",
    "#             print('time =>' , row[0] , ' high => ' , row[1], ' low => ' , row[2] ,  ' open => ' , row[3] ,  ' close => ' , row[4])\n",
    "            line_count += 1\n",
    "    print(f'Number of candles:  {line_count - 1}')\n",
    "    \n",
    "candle_count = line_count -1"
   ]
  },
  {
   "cell_type": "code",
   "execution_count": 8,
   "metadata": {},
   "outputs": [
    {
     "name": "stdout",
     "output_type": "stream",
     "text": [
      "529677\n"
     ]
    }
   ],
   "source": [
    "minu = 0\n",
    "def sgn(a ,b):\n",
    "    if a==b :\n",
    "        return(1)\n",
    "    else:\n",
    "        return((b-a)/abs(a-b))\n",
    "for candle in candles :\n",
    "#     print(candle.id)\n",
    "#     print(candle.id)\n",
    "    for price in np.arange(candle.open , candle.high , sgn(candle.open,candle.high)*candle.speed):\n",
    "            price = round(price , 3)\n",
    "#             print(price)\n",
    "            minu += 1\n",
    "    # print(sec)\n",
    "    for price in np.arange(candle.high , candle.low , sgn(candle.high,candle.low)*candle.speed):\n",
    "            price = round(price , 3)\n",
    "    #         print(price1)\n",
    "            minu += 1\n",
    "    # print(sec)\n",
    "    for price in np.arange(candle.low , candle.close , sgn(candle.low,candle.close)*candle.speed):\n",
    "        price = round(price , 3)\n",
    "#         print(pric1)\n",
    "        minu += 1\n",
    "    minu -= 1\n",
    "print(minu)"
   ]
  },
  {
   "cell_type": "code",
   "execution_count": 9,
   "metadata": {},
   "outputs": [
    {
     "name": "stdout",
     "output_type": "stream",
     "text": [
      "60\n"
     ]
    }
   ],
   "source": [
    "candle = candles[5]\n",
    "sec  = 0 \n",
    "for price in np.arange(candle.open , candle.high , sgn(candle.open,candle.high)*candle.speed):\n",
    "        price = round(price , 3)\n",
    "#             print(price)\n",
    "        sec += 1\n",
    "# print(sec)\n",
    "for price in np.arange(candle.high , candle.low , sgn(candle.high,candle.low)*candle.speed):\n",
    "        price = round(price , 3)\n",
    "#         print(price1)\n",
    "        sec += 1\n",
    "# print(sec)\n",
    "for price in np.arange(candle.low , candle.close , sgn(candle.low,candle.close)*candle.speed):\n",
    "    price = round(price , 3)\n",
    "#         print(pric1)\n",
    "    sec += 1\n",
    "sec -= 1\n",
    "print(sec)"
   ]
  }
 ],
 "metadata": {
  "kernelspec": {
   "display_name": "Python 3",
   "language": "python",
   "name": "python3"
  },
  "language_info": {
   "codemirror_mode": {
    "name": "ipython",
    "version": 3
   },
   "file_extension": ".py",
   "mimetype": "text/x-python",
   "name": "python",
   "nbconvert_exporter": "python",
   "pygments_lexer": "ipython3",
   "version": "3.9.0"
  }
 },
 "nbformat": 4,
 "nbformat_minor": 4
}